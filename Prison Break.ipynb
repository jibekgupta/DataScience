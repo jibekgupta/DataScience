{
 "cells": [
  {
   "cell_type": "markdown",
   "id": "c710ea8e",
   "metadata": {},
   "source": [
    "# Analyzing Helicopter Prison Escapes: A Data-Driven Approach"
   ]
  },
  {
   "cell_type": "markdown",
   "id": "1bc7640a",
   "metadata": {},
   "source": [
    "We will analyze the intriguing phenomenon of heelicopter prison escapes using data from Wikipedia. We will use Python's powerful data manipulation libraries, **'numpy'** and **'pandas'**, along with the visualization library **'matplotlib'**, to uncover trends and insights from the data. Let's dive in! "
   ]
  },
  {
   "cell_type": "markdown",
   "id": "8b340465",
   "metadata": {},
   "source": [
    "### Loading the Libraries"
   ]
  },
  {
   "cell_type": "code",
   "execution_count": 74,
   "id": "9a1b321e",
   "metadata": {},
   "outputs": [],
   "source": [
    "import numpy as np\n",
    "import pandas as pd\n",
    "import matplotlib.pyplot as plt\n"
   ]
  },
  {
   "cell_type": "markdown",
   "id": "b6829262",
   "metadata": {},
   "source": [
    "### Getting the data"
   ]
  },
  {
   "cell_type": "markdown",
   "id": "07e11fc7",
   "metadata": {},
   "source": [
    "Now, let's get the data from the [List of helicopter prison escapes](https://en.wikipedia.org/wiki/List_of_helicopter_prison_escapes#Actual_attempts) Wikipedia article."
   ]
  },
  {
   "cell_type": "code",
   "execution_count": 75,
   "id": "a7387cbe",
   "metadata": {},
   "outputs": [
    {
     "name": "stdout",
     "output_type": "stream",
     "text": [
      "['August 19, 1971', 'Santa Martha Acatitla', 'Mexico', 'Yes', 'Joel David Kaplan Carlos Antonio Contreras Castro', \"Kaplan was a New York businessman who had been arrested for murder in 1962 in Mexico City and was incarcerated at the Santa Martha Acatitla prison in the Iztapalapa borough. Joel's sister, Judy Kaplan, arranged the means to help Kaplan escape, and on the aforementioned date, a helicopter landed in the prison yard. The guards mistakenly thought this was an official visit. In two minutes, Kaplan and his cellmate Contreras, a Venezuelan counterfeiter, were able to board the craft and were piloted away, before any shots were fired.[10] Both men were flown to Texas and then different planes flew Kaplan to California and Contreras to Guatemala.[3] The Mexican government never initiated extradition proceedings against Kaplan.[10] The escape is told in a book, The 10-Second Jailbreak: The Helicopter Escape of Joel David Kaplan.[5] It also inspired the 1975 action movie Breakout, which starred Charles Bronson and Robert Duvall.[10]\"]\n",
      "['October 31, 1973', 'Mountjoy Jail, Dublin', 'Ireland', 'Yes', \"JB O'Hagan Seamus Twomey Kevin Mallon\", 'An IRA member hijacked a helicopter and forced the pilot to land in the exercise yard of the prison\\'s D Wing at 3:40\\xa0p.m. Three prisoners who were also members of the IRA escaped aboard the helicopter. Another prisoner was quoted as saying, \"One shamefaced screw apologised to the governor and said he thought it was the new Minister for Defence (Paddy Donegan) arriving. I told him it was our Minister of Defence leaving.\" The escape became Republican lore and was immortalized by \"The Helicopter Song\", which contains the lines \"It\\'s up like a bird and over the city. There\\'s three men a\\'missing I heard the warder say\".[1]']\n",
      "['May 24, 1978', 'United States Penitentiary, Marion, Illinois', 'United States', 'No', 'Garrett Brock Trapnell Martin Joseph McNally James Kenneth Johnson', \"43-year-old Barbara Ann Oswald hijacked a Saint Louis-based charter helicopter and forced the pilot to land in the prison yard. While landing the aircraft, the pilot, Allen Barklage, who was a Vietnam War veteran, struggled with Oswald and managed to wrestle the gun away from her. Barklage then shot and killed Oswald, thwarting the escape.[11] A few months later Oswald's daughter hijacked TWA Flight 541 in an effort to free Trapnell.\"]\n"
     ]
    }
   ],
   "source": [
    "# Fetch the data from Wikipedia\n",
    "url =\"https://en.wikipedia.org/wiki/List_of_helicopter_prison_escapes\"\n",
    "df= pd.read_html(url)[1]\n",
    "data= df.to_numpy().tolist()\n",
    "\n",
    "# Display few data\n",
    "for row in data[:3]:\n",
    "    print(row)"
   ]
  },
  {
   "cell_type": "markdown",
   "id": "b0e70c56",
   "metadata": {},
   "source": [
    "### Data Preprocessing"
   ]
  },
  {
   "cell_type": "markdown",
   "id": "63d8f795",
   "metadata": {},
   "source": [
    "To make our analysis easier, we need to clean and preprocess the data. We'll remove unnecessary columns and extract the year from the date."
   ]
  },
  {
   "cell_type": "code",
   "execution_count": 82,
   "id": "be82a4cf",
   "metadata": {},
   "outputs": [
    {
     "name": "stdout",
     "output_type": "stream",
     "text": [
      "[['1971', 'Santa Martha Acatitla', 'Mexico', 'Yes'], ['1973', 'Mountjoy Jail, Dublin', 'Ireland', 'Yes'], ['1978', 'United States Penitentiary, Marion, Illinois', 'United States', 'No'], ['1981', 'Fleury-Mérogis, Essonne, Ile de France', 'France', 'Yes'], ['1981', 'Orsainville Prison, Quebec City', 'Canada', 'No']]\n"
     ]
    }
   ],
   "source": [
    "# Remove the last column from each row\n",
    "index = 0 \n",
    "for row in data:\n",
    "    data[index] = row[:-1]\n",
    "    index+=1\n",
    "# Display the first five row of data\n",
    "print(data[:5])"
   ]
  },
  {
   "cell_type": "code",
   "execution_count": 77,
   "id": "74c014a9",
   "metadata": {
    "scrolled": true
   },
   "outputs": [
    {
     "name": "stdout",
     "output_type": "stream",
     "text": [
      "1971\n",
      "1973\n",
      "1978\n",
      "1981\n",
      "1981\n",
      "1983\n",
      "1985\n",
      "1985\n",
      "1986\n",
      "1986\n",
      "1986\n",
      "1987\n",
      "1988\n",
      "1989\n",
      "1989\n",
      "1990\n",
      "1991\n",
      "1992\n",
      "1992\n",
      "1993\n",
      "1996\n",
      "1997\n",
      "1999\n",
      "2000\n",
      "2000\n",
      "2001\n",
      "2001\n",
      "2001\n",
      "2002\n",
      "2002\n",
      "2003\n",
      "2005\n",
      "2005\n",
      "2006\n",
      "2007\n",
      "2007\n",
      "2007\n",
      "2009\n",
      "2009\n",
      "2009\n",
      "2010\n",
      "2012\n",
      "2013\n",
      "2013\n",
      "2014\n",
      "2016\n",
      "2018\n",
      "2020\n"
     ]
    }
   ],
   "source": [
    "# Extract the year from the date\n",
    "for row in data:\n",
    "    row[0] = row[0].split()[-1]\n",
    "for row in data:\n",
    "    \n",
    "    # Display all the year\n",
    "    print(row[0])\n",
    "    "
   ]
  },
  {
   "cell_type": "markdown",
   "id": "ffe70581",
   "metadata": {},
   "source": [
    "We have six columns, which are all self-descriptive. In this project, we'll answer the following questions:\n",
    "1. In which year did the most helicopter prison break attempts occur?\n",
    "2. In which countries do the most attempted helicopter prison escapes occur?\n"
   ]
  },
  {
   "cell_type": "markdown",
   "id": "a87ebb69",
   "metadata": {},
   "source": [
    "### Anayzing Attempts Per Year\n",
    "\n",
    "Next, we will analyze the number of helicopter prison attempts per year. We'll identify the range of years and count the attempts for each year.\n"
   ]
  },
  {
   "cell_type": "code",
   "execution_count": 78,
   "id": "5383d2b9",
   "metadata": {},
   "outputs": [],
   "source": [
    "# Find the range of years in the data\n",
    "min_year = min(data, key= lambda x: int(x[0]))[0]\n",
    "max_year = max(data, key= lambda x: int(x[0]))[0]\n",
    "years = list(range(int(min_year),int(max_year)+1))\n",
    "\n",
    "# Initialize the counts for each year\n",
    "attempts_per_year = [[year,0] for year in years]"
   ]
  },
  {
   "cell_type": "code",
   "execution_count": 79,
   "id": "3d2deaee",
   "metadata": {},
   "outputs": [
    {
     "name": "stdout",
     "output_type": "stream",
     "text": [
      "[[1971, 1], [1972, 0], [1973, 1], [1974, 0], [1975, 0], [1976, 0], [1977, 0], [1978, 1], [1979, 0], [1980, 0], [1981, 2], [1982, 0], [1983, 1], [1984, 0], [1985, 2], [1986, 3], [1987, 1], [1988, 1], [1989, 2], [1990, 1], [1991, 1], [1992, 2], [1993, 1], [1994, 0], [1995, 0], [1996, 1], [1997, 1], [1998, 0], [1999, 1], [2000, 2], [2001, 3], [2002, 2], [2003, 1], [2004, 0], [2005, 2], [2006, 1], [2007, 3], [2008, 0], [2009, 3], [2010, 1], [2011, 0], [2012, 1], [2013, 2], [2014, 1], [2015, 0], [2016, 1], [2017, 0], [2018, 1], [2019, 0], [2020, 1]]\n"
     ]
    }
   ],
   "source": [
    "# Count the number of attempts for each year\n",
    "for row in data:\n",
    "    for year_attempt in attempts_per_year:\n",
    "        year = year_attempt[0]\n",
    "        \n",
    "        if int(row[0]) == year:\n",
    "            year_attempt[1] += 1\n",
    "\n",
    "# Display the year, and the number of attempts\n",
    "print(attempts_per_year)"
   ]
  },
  {
   "cell_type": "markdown",
   "id": "ba48abce",
   "metadata": {},
   "source": [
    "### Visualizing Attempts Per Year\n",
    "\n",
    "Using **'matplotlib'**, we'll create a bar chart to visualize the number of attempts per year."
   ]
  },
  {
   "cell_type": "code",
   "execution_count": 80,
   "id": "8ae178f6",
   "metadata": {},
   "outputs": [
    {
     "data": {
      "image/png": "[encoded data removed]",
      "text/plain": [
       "<Figure size 1200x600 with 1 Axes>"
      ]
     },
     "metadata": {},
     "output_type": "display_data"
    }
   ],
   "source": [
    "# Extract the number of attempts for each year\n",
    "years= [year_attempt[0] for year_attempt in attempts_per_year]\n",
    "attempts = [year_attempt[1] for year_attempt in attempts_per_year]\n",
    "\n",
    "# Plot the number of attempts per year\n",
    "plt.figure(figsize=(12,6))\n",
    "plt.bar(years,attempts,color=\"blue\")\n",
    "plt.xlabel('Year')\n",
    "plt.ylabel('Number of Attempts')\n",
    "plt.title('Number of Helicopter Prison Escape Attempts Per Year')\n",
    "plt.xticks(years,rotation=90)\n",
    "plt.grid(axis='y')\n",
    "\n",
    "plt.tight_layout()\n",
    "plt.show()"
   ]
  },
  {
   "cell_type": "markdown",
   "id": "d8ffa8ff",
   "metadata": {},
   "source": [
    "### Analyzing Attempts by Country\n",
    "\n",
    "We are also interested in knowing which countries have experienced the most helicopter prison escape attempts. We'll count the attempts for each country and display the results."
   ]
  },
  {
   "cell_type": "code",
   "execution_count": 81,
   "id": "8e2e0af4",
   "metadata": {},
   "outputs": [
    {
     "name": "stdout",
     "output_type": "stream",
     "text": [
      "           Country  Number of Attempts\n",
      "0           France                  15\n",
      "1    United States                   8\n",
      "2           Canada                   4\n",
      "3           Greece                   4\n",
      "4          Belgium                   4\n",
      "5        Australia                   2\n",
      "6           Brazil                   2\n",
      "7   United Kingdom                   2\n",
      "8           Mexico                   1\n",
      "9          Ireland                   1\n",
      "10           Italy                   1\n",
      "11     Puerto Rico                   1\n",
      "12           Chile                   1\n",
      "13     Netherlands                   1\n",
      "14          Russia                   1\n"
     ]
    }
   ],
   "source": [
    "# Count the number of attempts per country\n",
    "country_counts ={}\n",
    "for row in data:\n",
    "    country=row[2]\n",
    "    if country in country_counts:\n",
    "        country_counts[country] +=1\n",
    "    else:\n",
    "        country_counts[country] = 1\n",
    "# Create a DataFrame and sort it\n",
    "country_df = pd.DataFrame(list(country_counts.items()), columns = ['Country','Number of Attempts'])\n",
    "country_df = country_df.sort_values(by='Number of Attempts', ascending = False).reset_index(drop=True)\n",
    "\n",
    "# Display the DataFrame\n",
    "print(country_df)"
   ]
  },
  {
   "cell_type": "markdown",
   "id": "c458a2a3",
   "metadata": {},
   "source": [
    "### Conclusion\n",
    "\n",
    "By analyzing helicopter prison escapes attempts over the years and across countries, we can gain valuable insights into this unique phenomenon. This analysis not only demonstrates the power of data science in uncovering patterns and trends but also highlights the importance of effective data visualization.\n",
    "\n",
    "We found that the years 1985, 2001, 2007 and 2009 had the highest number of helicopter escape attempts. Additionaly, the country with the highest number of helicopter escapes is **France** ."
   ]
  },
  {
   "cell_type": "code",
   "execution_count": null,
   "id": "d3c88056",
   "metadata": {},
   "outputs": [],
   "source": []
  }
 ],
 "metadata": {
  "kernelspec": {
   "display_name": "Python 3 (ipykernel)",
   "language": "python",
   "name": "python3"
  },
  "language_info": {
   "codemirror_mode": {
    "name": "ipython",
    "version": 3
   },
   "file_extension": ".py",
   "mimetype": "text/x-python",
   "name": "python",
   "nbconvert_exporter": "python",
   "pygments_lexer": "ipython3",
   "version": "3.9.18"
  }
 },
 "nbformat": 4,
 "nbformat_minor": 5
}
