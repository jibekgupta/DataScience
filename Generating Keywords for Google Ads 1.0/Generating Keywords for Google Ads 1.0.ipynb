{
 "cells": [
  {
   "cell_type": "markdown",
   "id": "11761ff2-45c4-494b-84f4-22bb69c9ec15",
   "metadata": {
    "dc": {
     "key": "4"
    },
    "run_control": {
     "frozen": true
    },
    "tags": [
     "context"
    ]
   },
   "source": [
    "   ## The brief\n",
    "Imagine working for a digital marketing agency, and the agency is approached by a massive online retailer of furniture. They want to test our skills at creating large campaigns for all of their website. We are tasked with creating a prototype set of keywords for search campaigns for their sofas section. The client says that they want us to generate keywords for the following products: \n",
    "\n",
    "* sofas\n",
    "* convertible sofas\n",
    "* love seats\n",
    "* recliners\n",
    "* sofa beds\n",
    "\n",
    "**The brief:** The client is generally a low-cost retailer, offering many promotions and discounts. We will need to focus on such keywords. We will also need to move away from luxury keywords and topics, as we are targeting price-sensitive customers. Because we are going to be tight on budget, it would be good to focus on a tightly targeted set of keywords and make sure they are all set to exact and phrase match. \n",
    "\n",
    "Based on the brief above we will first need to generate a list of words, that together with the products given above would make for good keywords. Here are some examples:\n",
    "\n",
    "* Products: sofas, recliners\n",
    "* Words: buy, prices\n",
    "\n",
    "The resulting keywords: 'buy sofas', 'sofas buy', 'buy recliners', 'recliners buy', 'prices sofas', 'sofas prices', 'prices recliners', 'recliners prices'.\n",
    "As a final result, we want to have a DataFrame that looks like this: \n",
    "<table>\n",
    "<thead>\n",
    "<tr>\n",
    "<th>Campaign</th>\n",
    "<th>Ad Group</th>\n",
    "<th>Keyword</th>\n",
    "<th>Criterion Type</th>\n",
    "</tr>\n",
    "</thead>\n",
    "<tbody>\n",
    "<tr>\n",
    "<td>Campaign1</td>\n",
    "<td>AdGroup_1</td>\n",
    "<td>keyword 1a</td>\n",
    "<td>Exact</td>\n",
    "</tr>\n",
    "<tr>\n",
    "<td>Campaign1</td>\n",
    "<td>AdGroup_1</td>\n",
    "<td>keyword 1a</td>\n",
    "<td>Phrase</td>\n",
    "</tr>\n",
    "<tr>\n",
    "<td>Campaign1</td>\n",
    "<td>AdGroup_1</td>\n",
    "<td>keyword 1b</td>\n",
    "<td>Exact</td>\n",
    "</tr>\n",
    "<tr>\n",
    "<td>Campaign1</td>\n",
    "<td>AdGroup_1</td>\n",
    "<td>keyword 1b</td>\n",
    "<td>Phrase</td>\n",
    "</tr>\n",
    "<tr>\n",
    "<td>Campaign1</td>\n",
    "<td>AdGroup_2</td>\n",
    "<td>keyword 2a</td>\n",
    "<td>Exact</td>\n",
    "</tr>\n",
    "<tr>\n",
    "<td>Campaign1</td>\n",
    "<td>AdGroup_2</td>\n",
    "<td>keyword 2a</td>\n",
    "<td>Phrase</td>\n",
    "</tr>\n",
    "</tbody>\n",
    "</table>\n",
    "<p>The first step is to come up with a list of words that users might use to express their desire in buying low-cost sofas.</p>"
   ]
  },
  {
   "cell_type": "code",
   "execution_count": 18,
   "id": "ab3d9532-5539-48e8-a44e-d991d375932c",
   "metadata": {
    "dc": {
     "key": "4"
    },
    "executionCancelledAt": null,
    "executionTime": 181,
    "lastExecutedAt": 1696352807659,
    "lastScheduledRunId": null,
    "lastSuccessfullyExecutedCode": "# List of words to pair with products\nwords = ['buy','price','discount','promotion','promo','shop',]\n\n# Print list of words\n# ... YOUR CODE FOR TASK 1 ...\nprint(words)",
    "outputsMetadata": {
     "0": {
      "height": 37,
      "type": "stream"
     }
    },
    "tags": [
     "sample_code"
    ]
   },
   "outputs": [
    {
     "name": "stdout",
     "output_type": "stream",
     "text": [
      "['buy', 'price', 'discount', 'promotion', 'promo', 'shop']\n"
     ]
    }
   ],
   "source": [
    "# List of words to pair with products\n",
    "words = ['buy','price','discount','promotion','promo','shop',]\n",
    "\n",
    "# Print list of words\n",
    "print(words)"
   ]
  },
  {
   "cell_type": "markdown",
   "id": "d0c0bd16-5ab9-4e0d-afd4-a5a660570724",
   "metadata": {
    "dc": {
     "key": "11"
    },
    "run_control": {
     "frozen": true
    },
    "tags": [
     "context"
    ]
   },
   "source": [
    "## 2. Combine the words with the product names"
   ]
  },
  {
   "cell_type": "code",
   "execution_count": 19,
   "id": "f02c9864-1d62-475e-9e06-dd5b97fb30d5",
   "metadata": {
    "dc": {
     "key": "11"
    },
    "executionCancelledAt": null,
    "executionTime": 56,
    "lastExecutedAt": 1696352807715,
    "lastScheduledRunId": null,
    "lastSuccessfullyExecutedCode": "products = ['sofas', 'convertible sofas', 'love seats', 'recliners', 'sofa beds']\n\n# Create an empty list\nkeywords_list = []\n\n# Loop through products\nfor product in products:\n    # Loop through words\n    for word in words:\n        # Append combinations\n        keywords_list.append([product, product + ' ' + word])\n        keywords_list.append([product, product + ' ' + word])\n        \n# Inspect keyword list\nfrom pprint import pprint\npprint(keywords_list)",
    "outputsMetadata": {
     "0": {
      "height": 616,
      "type": "stream"
     }
    },
    "tags": [
     "sample_code"
    ]
   },
   "outputs": [
    {
     "name": "stdout",
     "output_type": "stream",
     "text": [
      "[['sofas', 'sofas buy'],\n",
      " ['sofas', 'sofas buy'],\n",
      " ['sofas', 'sofas price'],\n",
      " ['sofas', 'sofas price'],\n",
      " ['sofas', 'sofas discount'],\n",
      " ['sofas', 'sofas discount'],\n",
      " ['sofas', 'sofas promotion'],\n",
      " ['sofas', 'sofas promotion'],\n",
      " ['sofas', 'sofas promo'],\n",
      " ['sofas', 'sofas promo'],\n",
      " ['sofas', 'sofas shop'],\n",
      " ['sofas', 'sofas shop'],\n",
      " ['convertible sofas', 'convertible sofas buy'],\n",
      " ['convertible sofas', 'convertible sofas buy'],\n",
      " ['convertible sofas', 'convertible sofas price'],\n",
      " ['convertible sofas', 'convertible sofas price'],\n",
      " ['convertible sofas', 'convertible sofas discount'],\n",
      " ['convertible sofas', 'convertible sofas discount'],\n",
      " ['convertible sofas', 'convertible sofas promotion'],\n",
      " ['convertible sofas', 'convertible sofas promotion'],\n",
      " ['convertible sofas', 'convertible sofas promo'],\n",
      " ['convertible sofas', 'convertible sofas promo'],\n",
      " ['convertible sofas', 'convertible sofas shop'],\n",
      " ['convertible sofas', 'convertible sofas shop'],\n",
      " ['love seats', 'love seats buy'],\n",
      " ['love seats', 'love seats buy'],\n",
      " ['love seats', 'love seats price'],\n",
      " ['love seats', 'love seats price'],\n",
      " ['love seats', 'love seats discount'],\n",
      " ['love seats', 'love seats discount'],\n",
      " ['love seats', 'love seats promotion'],\n",
      " ['love seats', 'love seats promotion'],\n",
      " ['love seats', 'love seats promo'],\n",
      " ['love seats', 'love seats promo'],\n",
      " ['love seats', 'love seats shop'],\n",
      " ['love seats', 'love seats shop'],\n",
      " ['recliners', 'recliners buy'],\n",
      " ['recliners', 'recliners buy'],\n",
      " ['recliners', 'recliners price'],\n",
      " ['recliners', 'recliners price'],\n",
      " ['recliners', 'recliners discount'],\n",
      " ['recliners', 'recliners discount'],\n",
      " ['recliners', 'recliners promotion'],\n",
      " ['recliners', 'recliners promotion'],\n",
      " ['recliners', 'recliners promo'],\n",
      " ['recliners', 'recliners promo'],\n",
      " ['recliners', 'recliners shop'],\n",
      " ['recliners', 'recliners shop'],\n",
      " ['sofa beds', 'sofa beds buy'],\n",
      " ['sofa beds', 'sofa beds buy'],\n",
      " ['sofa beds', 'sofa beds price'],\n",
      " ['sofa beds', 'sofa beds price'],\n",
      " ['sofa beds', 'sofa beds discount'],\n",
      " ['sofa beds', 'sofa beds discount'],\n",
      " ['sofa beds', 'sofa beds promotion'],\n",
      " ['sofa beds', 'sofa beds promotion'],\n",
      " ['sofa beds', 'sofa beds promo'],\n",
      " ['sofa beds', 'sofa beds promo'],\n",
      " ['sofa beds', 'sofa beds shop'],\n",
      " ['sofa beds', 'sofa beds shop']]\n"
     ]
    }
   ],
   "source": [
    "products = ['sofas', 'convertible sofas', 'love seats', 'recliners', 'sofa beds']\n",
    "\n",
    "# Create an empty list\n",
    "keywords_list = []\n",
    "\n",
    "# Loop through products\n",
    "for product in products:\n",
    "    # Loop through words\n",
    "    for word in words:\n",
    "        # Append combinations\n",
    "        keywords_list.append([product, product + ' ' + word])\n",
    "        keywords_list.append([product, product + ' ' + word])\n",
    "        \n",
    "# Inspect keyword list\n",
    "from pprint import pprint\n",
    "pprint(keywords_list)"
   ]
  },
  {
   "cell_type": "markdown",
   "id": "9539c14c-809d-4220-9c79-dca4e4b0a9d9",
   "metadata": {
    "dc": {
     "key": "18"
    },
    "run_control": {
     "frozen": true
    },
    "tags": [
     "context"
    ]
   },
   "source": [
    "## 3. Convert the list of lists into a DataFrame\n"
   ]
  },
  {
   "cell_type": "code",
   "execution_count": 20,
   "id": "d9b09247-bbc7-4960-a2d0-c291d3f8476d",
   "metadata": {
    "chartConfig": {
     "bar": {
      "hasRoundedCorners": true,
      "stacked": false
     },
     "type": "bar",
     "version": "v1"
    },
    "dc": {
     "key": "18"
    },
    "executionCancelledAt": null,
    "executionTime": 52,
    "lastExecutedAt": 1696352807767,
    "lastScheduledRunId": null,
    "lastSuccessfullyExecutedCode": "# Load library\n# ... YOUR CODE FOR TASK 3 ...\nimport pandas as pd\n# Create a DataFrame from list\nkeywords_df = pd.DataFrame(keywords_list)\n\n# Print the keywords DataFrame to explore it\n# ... YOUR CODE FOR TASK 3 ...\nkeywords_df.head()",
    "outputsMetadata": {
     "0": {
      "height": 193,
      "type": "dataFrame"
     }
    },
    "tags": [
     "sample_code"
    ],
    "visualizeDataframe": false
   },
   "outputs": [
    {
     "data": {
      "text/html": [
       "<div>\n",
       "<style scoped>\n",
       "    .dataframe tbody tr th:only-of-type {\n",
       "        vertical-align: middle;\n",
       "    }\n",
       "\n",
       "    .dataframe tbody tr th {\n",
       "        vertical-align: top;\n",
       "    }\n",
       "\n",
       "    .dataframe thead th {\n",
       "        text-align: right;\n",
       "    }\n",
       "</style>\n",
       "<table border=\"1\" class=\"dataframe\">\n",
       "  <thead>\n",
       "    <tr style=\"text-align: right;\">\n",
       "      <th></th>\n",
       "      <th>0</th>\n",
       "      <th>1</th>\n",
       "    </tr>\n",
       "  </thead>\n",
       "  <tbody>\n",
       "    <tr>\n",
       "      <th>0</th>\n",
       "      <td>sofas</td>\n",
       "      <td>sofas buy</td>\n",
       "    </tr>\n",
       "    <tr>\n",
       "      <th>1</th>\n",
       "      <td>sofas</td>\n",
       "      <td>sofas buy</td>\n",
       "    </tr>\n",
       "    <tr>\n",
       "      <th>2</th>\n",
       "      <td>sofas</td>\n",
       "      <td>sofas price</td>\n",
       "    </tr>\n",
       "    <tr>\n",
       "      <th>3</th>\n",
       "      <td>sofas</td>\n",
       "      <td>sofas price</td>\n",
       "    </tr>\n",
       "    <tr>\n",
       "      <th>4</th>\n",
       "      <td>sofas</td>\n",
       "      <td>sofas discount</td>\n",
       "    </tr>\n",
       "  </tbody>\n",
       "</table>\n",
       "</div>"
      ],
      "text/plain": [
       "       0               1\n",
       "0  sofas       sofas buy\n",
       "1  sofas       sofas buy\n",
       "2  sofas     sofas price\n",
       "3  sofas     sofas price\n",
       "4  sofas  sofas discount"
      ]
     },
     "execution_count": 20,
     "metadata": {},
     "output_type": "execute_result"
    }
   ],
   "source": [
    "# Load library\n",
    "import pandas as pd\n",
    "\n",
    "# Create a DataFrame from list\n",
    "keywords_df = pd.DataFrame(keywords_list)\n",
    "\n",
    "# Print the keywords DataFrame to explore it\n",
    "keywords_df.head()"
   ]
  },
  {
   "cell_type": "markdown",
   "id": "8d458e11-a793-43b4-a297-64443e1d7b21",
   "metadata": {
    "dc": {
     "key": "25"
    },
    "run_control": {
     "frozen": true
    },
    "tags": [
     "context"
    ]
   },
   "source": [
    "## 4. Rename the columns of the DataFrame"
   ]
  },
  {
   "cell_type": "code",
   "execution_count": 21,
   "id": "cd5e7152-2069-490e-9dca-473113ed3d64",
   "metadata": {
    "dc": {
     "key": "25"
    },
    "executionCancelledAt": null,
    "executionTime": 60,
    "lastExecutedAt": 1696352807827,
    "lastScheduledRunId": null,
    "lastSuccessfullyExecutedCode": "# Rename the columns of the DataFrame\nkeywords_df = keywords_df.rename(columns={0: 'Ad Group', 1: 'Keyword'})\nprint(keywords_df)",
    "outputsMetadata": {
     "0": {
      "height": 616,
      "type": "stream"
     }
    },
    "tags": [
     "sample_code"
    ]
   },
   "outputs": [
    {
     "name": "stdout",
     "output_type": "stream",
     "text": [
      "             Ad Group                      Keyword\n",
      "0               sofas                    sofas buy\n",
      "1               sofas                    sofas buy\n",
      "2               sofas                  sofas price\n",
      "3               sofas                  sofas price\n",
      "4               sofas               sofas discount\n",
      "5               sofas               sofas discount\n",
      "6               sofas              sofas promotion\n",
      "7               sofas              sofas promotion\n",
      "8               sofas                  sofas promo\n",
      "9               sofas                  sofas promo\n",
      "10              sofas                   sofas shop\n",
      "11              sofas                   sofas shop\n",
      "12  convertible sofas        convertible sofas buy\n",
      "13  convertible sofas        convertible sofas buy\n",
      "14  convertible sofas      convertible sofas price\n",
      "15  convertible sofas      convertible sofas price\n",
      "16  convertible sofas   convertible sofas discount\n",
      "17  convertible sofas   convertible sofas discount\n",
      "18  convertible sofas  convertible sofas promotion\n",
      "19  convertible sofas  convertible sofas promotion\n",
      "20  convertible sofas      convertible sofas promo\n",
      "21  convertible sofas      convertible sofas promo\n",
      "22  convertible sofas       convertible sofas shop\n",
      "23  convertible sofas       convertible sofas shop\n",
      "24         love seats               love seats buy\n",
      "25         love seats               love seats buy\n",
      "26         love seats             love seats price\n",
      "27         love seats             love seats price\n",
      "28         love seats          love seats discount\n",
      "29         love seats          love seats discount\n",
      "30         love seats         love seats promotion\n",
      "31         love seats         love seats promotion\n",
      "32         love seats             love seats promo\n",
      "33         love seats             love seats promo\n",
      "34         love seats              love seats shop\n",
      "35         love seats              love seats shop\n",
      "36          recliners                recliners buy\n",
      "37          recliners                recliners buy\n",
      "38          recliners              recliners price\n",
      "39          recliners              recliners price\n",
      "40          recliners           recliners discount\n",
      "41          recliners           recliners discount\n",
      "42          recliners          recliners promotion\n",
      "43          recliners          recliners promotion\n",
      "44          recliners              recliners promo\n",
      "45          recliners              recliners promo\n",
      "46          recliners               recliners shop\n",
      "47          recliners               recliners shop\n",
      "48          sofa beds                sofa beds buy\n",
      "49          sofa beds                sofa beds buy\n",
      "50          sofa beds              sofa beds price\n",
      "51          sofa beds              sofa beds price\n",
      "52          sofa beds           sofa beds discount\n",
      "53          sofa beds           sofa beds discount\n",
      "54          sofa beds          sofa beds promotion\n",
      "55          sofa beds          sofa beds promotion\n",
      "56          sofa beds              sofa beds promo\n",
      "57          sofa beds              sofa beds promo\n",
      "58          sofa beds               sofa beds shop\n",
      "59          sofa beds               sofa beds shop\n"
     ]
    }
   ],
   "source": [
    "# Rename the columns of the DataFrame\n",
    "keywords_df = keywords_df.rename(columns={0: 'Ad Group', 1: 'Keyword'})\n",
    "print(keywords_df)"
   ]
  },
  {
   "cell_type": "markdown",
   "id": "8af7b9f7-7aee-4fe3-b113-22dd1821e041",
   "metadata": {
    "dc": {
     "key": "32"
    },
    "run_control": {
     "frozen": true
    },
    "tags": [
     "context"
    ]
   },
   "source": [
    "## 5. Add a campaign column"
   ]
  },
  {
   "cell_type": "code",
   "execution_count": 22,
   "id": "e69f12ea-3dde-4dfa-b31e-161603b94667",
   "metadata": {
    "dc": {
     "key": "32"
    },
    "executionCancelledAt": null,
    "executionTime": 52,
    "lastExecutedAt": 1696352807879,
    "lastScheduledRunId": null,
    "lastSuccessfullyExecutedCode": "# Add a campaign column\n# ... YOUR CODE FOR TASK 5 ...\nkeywords_df['Campaign']='SEM_Sofas'\nkeywords_df.head()",
    "outputsMetadata": {
     "0": {
      "height": 193,
      "type": "dataFrame"
     }
    },
    "tags": [
     "sample_code"
    ]
   },
   "outputs": [
    {
     "data": {
      "text/html": [
       "<div>\n",
       "<style scoped>\n",
       "    .dataframe tbody tr th:only-of-type {\n",
       "        vertical-align: middle;\n",
       "    }\n",
       "\n",
       "    .dataframe tbody tr th {\n",
       "        vertical-align: top;\n",
       "    }\n",
       "\n",
       "    .dataframe thead th {\n",
       "        text-align: right;\n",
       "    }\n",
       "</style>\n",
       "<table border=\"1\" class=\"dataframe\">\n",
       "  <thead>\n",
       "    <tr style=\"text-align: right;\">\n",
       "      <th></th>\n",
       "      <th>Ad Group</th>\n",
       "      <th>Keyword</th>\n",
       "      <th>Campaign</th>\n",
       "    </tr>\n",
       "  </thead>\n",
       "  <tbody>\n",
       "    <tr>\n",
       "      <th>0</th>\n",
       "      <td>sofas</td>\n",
       "      <td>sofas buy</td>\n",
       "      <td>SEM_Sofas</td>\n",
       "    </tr>\n",
       "    <tr>\n",
       "      <th>1</th>\n",
       "      <td>sofas</td>\n",
       "      <td>sofas buy</td>\n",
       "      <td>SEM_Sofas</td>\n",
       "    </tr>\n",
       "    <tr>\n",
       "      <th>2</th>\n",
       "      <td>sofas</td>\n",
       "      <td>sofas price</td>\n",
       "      <td>SEM_Sofas</td>\n",
       "    </tr>\n",
       "    <tr>\n",
       "      <th>3</th>\n",
       "      <td>sofas</td>\n",
       "      <td>sofas price</td>\n",
       "      <td>SEM_Sofas</td>\n",
       "    </tr>\n",
       "    <tr>\n",
       "      <th>4</th>\n",
       "      <td>sofas</td>\n",
       "      <td>sofas discount</td>\n",
       "      <td>SEM_Sofas</td>\n",
       "    </tr>\n",
       "  </tbody>\n",
       "</table>\n",
       "</div>"
      ],
      "text/plain": [
       "  Ad Group         Keyword   Campaign\n",
       "0    sofas       sofas buy  SEM_Sofas\n",
       "1    sofas       sofas buy  SEM_Sofas\n",
       "2    sofas     sofas price  SEM_Sofas\n",
       "3    sofas     sofas price  SEM_Sofas\n",
       "4    sofas  sofas discount  SEM_Sofas"
      ]
     },
     "execution_count": 22,
     "metadata": {},
     "output_type": "execute_result"
    }
   ],
   "source": [
    "# Add a campaign column\n",
    "keywords_df['Campaign']='SEM_Sofas'\n",
    "keywords_df.head()"
   ]
  },
  {
   "cell_type": "markdown",
   "id": "ba00ca44-fb0b-4a49-a4f8-f9c6d4f064c3",
   "metadata": {
    "dc": {
     "key": "39"
    },
    "run_control": {
     "frozen": true
    },
    "tags": [
     "context"
    ]
   },
   "source": [
    "## 6. Create the match type column\n"
   ]
  },
  {
   "cell_type": "code",
   "execution_count": 23,
   "id": "af3417c3-f48b-490e-9ed6-ce6915a6ed96",
   "metadata": {
    "dc": {
     "key": "39"
    },
    "executionCancelledAt": null,
    "executionTime": 53,
    "lastExecutedAt": 1696352807932,
    "lastScheduledRunId": null,
    "lastSuccessfullyExecutedCode": "# Add a criterion type column\n# ... YOUR CODE FOR TASK 6 ...\nkeywords_df['Criterion Type']='Exact'\nkeywords_df.head()",
    "outputsMetadata": {
     "0": {
      "height": 193,
      "type": "dataFrame"
     }
    },
    "tags": [
     "sample_code"
    ]
   },
   "outputs": [
    {
     "data": {
      "text/html": [
       "<div>\n",
       "<style scoped>\n",
       "    .dataframe tbody tr th:only-of-type {\n",
       "        vertical-align: middle;\n",
       "    }\n",
       "\n",
       "    .dataframe tbody tr th {\n",
       "        vertical-align: top;\n",
       "    }\n",
       "\n",
       "    .dataframe thead th {\n",
       "        text-align: right;\n",
       "    }\n",
       "</style>\n",
       "<table border=\"1\" class=\"dataframe\">\n",
       "  <thead>\n",
       "    <tr style=\"text-align: right;\">\n",
       "      <th></th>\n",
       "      <th>Ad Group</th>\n",
       "      <th>Keyword</th>\n",
       "      <th>Campaign</th>\n",
       "      <th>Criterion Type</th>\n",
       "    </tr>\n",
       "  </thead>\n",
       "  <tbody>\n",
       "    <tr>\n",
       "      <th>0</th>\n",
       "      <td>sofas</td>\n",
       "      <td>sofas buy</td>\n",
       "      <td>SEM_Sofas</td>\n",
       "      <td>Exact</td>\n",
       "    </tr>\n",
       "    <tr>\n",
       "      <th>1</th>\n",
       "      <td>sofas</td>\n",
       "      <td>sofas buy</td>\n",
       "      <td>SEM_Sofas</td>\n",
       "      <td>Exact</td>\n",
       "    </tr>\n",
       "    <tr>\n",
       "      <th>2</th>\n",
       "      <td>sofas</td>\n",
       "      <td>sofas price</td>\n",
       "      <td>SEM_Sofas</td>\n",
       "      <td>Exact</td>\n",
       "    </tr>\n",
       "    <tr>\n",
       "      <th>3</th>\n",
       "      <td>sofas</td>\n",
       "      <td>sofas price</td>\n",
       "      <td>SEM_Sofas</td>\n",
       "      <td>Exact</td>\n",
       "    </tr>\n",
       "    <tr>\n",
       "      <th>4</th>\n",
       "      <td>sofas</td>\n",
       "      <td>sofas discount</td>\n",
       "      <td>SEM_Sofas</td>\n",
       "      <td>Exact</td>\n",
       "    </tr>\n",
       "  </tbody>\n",
       "</table>\n",
       "</div>"
      ],
      "text/plain": [
       "  Ad Group         Keyword   Campaign Criterion Type\n",
       "0    sofas       sofas buy  SEM_Sofas          Exact\n",
       "1    sofas       sofas buy  SEM_Sofas          Exact\n",
       "2    sofas     sofas price  SEM_Sofas          Exact\n",
       "3    sofas     sofas price  SEM_Sofas          Exact\n",
       "4    sofas  sofas discount  SEM_Sofas          Exact"
      ]
     },
     "execution_count": 23,
     "metadata": {},
     "output_type": "execute_result"
    }
   ],
   "source": [
    "# Add a criterion type column\n",
    "keywords_df['Criterion Type']='Exact'\n",
    "keywords_df.head()"
   ]
  },
  {
   "cell_type": "markdown",
   "id": "857860ed-e33d-4057-8a44-413c2204df64",
   "metadata": {
    "dc": {
     "key": "46"
    },
    "run_control": {
     "frozen": true
    },
    "tags": [
     "context"
    ]
   },
   "source": [
    "## 7. Duplicate all the keywords into 'phrase' match"
   ]
  },
  {
   "cell_type": "code",
   "execution_count": 24,
   "id": "6efa519e-4b09-40bb-957b-7a0c610e7351",
   "metadata": {
    "dc": {
     "key": "46"
    },
    "executionCancelledAt": null,
    "executionTime": 50,
    "lastExecutedAt": 1696352807983,
    "lastScheduledRunId": null,
    "lastSuccessfullyExecutedCode": "# Make a copy of the keywords DataFrame\nkeywords_phrase = keywords_df.copy()\n\n# Change criterion type match to phrase\n# ... YOUR CODE FOR TASK 7 ...\nkeywords_phrase['Criterion Type']='Phrase'\n\n# Append the DataFrames\nkeywords_df_final =keywords_df.append(keywords_phrase)\nkeywords_df_final.head()",
    "outputsMetadata": {
     "0": {
      "height": 193,
      "type": "dataFrame"
     }
    },
    "tags": [
     "sample_code"
    ]
   },
   "outputs": [
    {
     "data": {
      "text/html": [
       "<div>\n",
       "<style scoped>\n",
       "    .dataframe tbody tr th:only-of-type {\n",
       "        vertical-align: middle;\n",
       "    }\n",
       "\n",
       "    .dataframe tbody tr th {\n",
       "        vertical-align: top;\n",
       "    }\n",
       "\n",
       "    .dataframe thead th {\n",
       "        text-align: right;\n",
       "    }\n",
       "</style>\n",
       "<table border=\"1\" class=\"dataframe\">\n",
       "  <thead>\n",
       "    <tr style=\"text-align: right;\">\n",
       "      <th></th>\n",
       "      <th>Ad Group</th>\n",
       "      <th>Keyword</th>\n",
       "      <th>Campaign</th>\n",
       "      <th>Criterion Type</th>\n",
       "    </tr>\n",
       "  </thead>\n",
       "  <tbody>\n",
       "    <tr>\n",
       "      <th>0</th>\n",
       "      <td>sofas</td>\n",
       "      <td>sofas buy</td>\n",
       "      <td>SEM_Sofas</td>\n",
       "      <td>Exact</td>\n",
       "    </tr>\n",
       "    <tr>\n",
       "      <th>1</th>\n",
       "      <td>sofas</td>\n",
       "      <td>sofas buy</td>\n",
       "      <td>SEM_Sofas</td>\n",
       "      <td>Exact</td>\n",
       "    </tr>\n",
       "    <tr>\n",
       "      <th>2</th>\n",
       "      <td>sofas</td>\n",
       "      <td>sofas price</td>\n",
       "      <td>SEM_Sofas</td>\n",
       "      <td>Exact</td>\n",
       "    </tr>\n",
       "    <tr>\n",
       "      <th>3</th>\n",
       "      <td>sofas</td>\n",
       "      <td>sofas price</td>\n",
       "      <td>SEM_Sofas</td>\n",
       "      <td>Exact</td>\n",
       "    </tr>\n",
       "    <tr>\n",
       "      <th>4</th>\n",
       "      <td>sofas</td>\n",
       "      <td>sofas discount</td>\n",
       "      <td>SEM_Sofas</td>\n",
       "      <td>Exact</td>\n",
       "    </tr>\n",
       "  </tbody>\n",
       "</table>\n",
       "</div>"
      ],
      "text/plain": [
       "  Ad Group         Keyword   Campaign Criterion Type\n",
       "0    sofas       sofas buy  SEM_Sofas          Exact\n",
       "1    sofas       sofas buy  SEM_Sofas          Exact\n",
       "2    sofas     sofas price  SEM_Sofas          Exact\n",
       "3    sofas     sofas price  SEM_Sofas          Exact\n",
       "4    sofas  sofas discount  SEM_Sofas          Exact"
      ]
     },
     "execution_count": 24,
     "metadata": {},
     "output_type": "execute_result"
    }
   ],
   "source": [
    "#Make a copy of the keywords DataFrame\n",
    "keywords_phrase = keywords_df.copy( )\n",
    "\n",
    "# Change criterion type match to phrase\n",
    "keywords_phrase['Criterion Type'] = 'Phrase'\n",
    "\n",
    "# Append the DataFrames\n",
    "keywords_df_final = pd.concat([keywords_df, keywords_phrase], ignore_index=True)\n",
    "keywords_df_final.head()"
   ]
  },
  {
   "cell_type": "markdown",
   "id": "c6f2359d-a857-4d02-9c04-630080b28cfe",
   "metadata": {
    "dc": {
     "key": "53"
    },
    "run_control": {
     "frozen": true
    },
    "tags": [
     "context"
    ]
   },
   "source": [
    "## 8. Save and summarize!"
   ]
  },
  {
   "cell_type": "code",
   "execution_count": 25,
   "id": "fa07eeaa-9a46-437b-8e27-a5185cc99472",
   "metadata": {
    "dc": {
     "key": "53"
    },
    "executionCancelledAt": null,
    "executionTime": 51,
    "lastExecutedAt": 1696352808034,
    "lastScheduledRunId": null,
    "lastSuccessfullyExecutedCode": "# Save the final keywords to a CSV file\n# ... YOUR CODE FOR TASK 8 ...\nkeywords_df_final.to_csv('keywords.csv',index=False)\n# View a summary of our campaign work\nsummary = keywords_df_final.groupby(['Ad Group', 'Criterion Type'])['Keyword'].count()\nprint(summary)",
    "outputsMetadata": {
     "0": {
      "height": 251,
      "type": "stream"
     }
    },
    "tags": [
     "sample_code"
    ]
   },
   "outputs": [
    {
     "name": "stdout",
     "output_type": "stream",
     "text": [
      "Ad Group           Criterion Type\n",
      "convertible sofas  Exact             12\n",
      "                   Phrase            12\n",
      "love seats         Exact             12\n",
      "                   Phrase            12\n",
      "recliners          Exact             12\n",
      "                   Phrase            12\n",
      "sofa beds          Exact             12\n",
      "                   Phrase            12\n",
      "sofas              Exact             12\n",
      "                   Phrase            12\n",
      "Name: Keyword, dtype: int64\n"
     ]
    }
   ],
   "source": [
    "# Save the final keywords to a CSV file\n",
    "keywords_df_final.to_csv('keywords.csv',index=False)\n",
    "\n",
    "# View a summary of our campaign work\n",
    "summary = keywords_df_final.groupby(['Ad Group', 'Criterion Type'])['Keyword'].count()\n",
    "print(summary)"
   ]
  },
  {
   "cell_type": "markdown",
   "id": "5d862ae6",
   "metadata": {},
   "source": [
    "***Overall, this code generates keyword combinations that can be used in digital marketing campaigns, adhering to the client's brief for a low-cost, promotion-focused campaign.***"
   ]
  }
 ],
 "metadata": {
  "editor": "DataCamp Workspace",
  "kernelspec": {
   "display_name": "Python 3 (ipykernel)",
   "language": "python",
   "name": "python3"
  },
  "language_info": {
   "codemirror_mode": {
    "name": "ipython",
    "version": 3
   },
   "file_extension": ".py",
   "mimetype": "text/x-python",
   "name": "python",
   "nbconvert_exporter": "python",
   "pygments_lexer": "ipython3",
   "version": "3.9.18"
  }
 },
 "nbformat": 4,
 "nbformat_minor": 5
}
